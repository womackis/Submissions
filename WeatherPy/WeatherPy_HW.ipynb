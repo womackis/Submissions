{
 "cells": [
  {
   "cell_type": "markdown",
   "metadata": {},
   "source": [
    "# WeatherPy Analysis\n",
    "\n",
    "\n",
    "# Observations:\n",
    "# Temperatures are higher closer to the equator.\n",
    "# There is no clear correlation between humidity and distance from equator.\n",
    "# Cloudiness is higher farther away from the equator."
   ]
  },
  {
   "cell_type": "code",
   "execution_count": 233,
   "metadata": {},
   "outputs": [],
   "source": [
    "# Dependencies\n",
    "import csv\n",
    "import matplotlib.pyplot as plt\n",
    "import requests as req\n",
    "import pandas as pd\n",
    "import numpy as np\n",
    "from citipy import citipy\n",
    "from config import openweather_api_key"
   ]
  },
  {
   "cell_type": "code",
   "execution_count": 234,
   "metadata": {},
   "outputs": [],
   "source": [
    "# Save config information.\n",
    "api_key = openweather_api_key\n",
    "url = \"http://api.openweathermap.org/data/2.5/weather?\"\n",
    "units = \"imperial\"\n",
    "\n",
    "# Build partial query URL\n",
    "query_url = url + \"appid=\" + api_key + \"&units=\" + units + \"&q=\"\n",
    "\n"
   ]
  },
  {
   "cell_type": "code",
   "execution_count": 235,
   "metadata": {},
   "outputs": [
    {
     "name": "stdout",
     "output_type": "stream",
     "text": [
      "1 utica\n",
      "2 mataura\n",
      "3 chala\n",
      "4 bambous virieux\n",
      "5 norman wells\n",
      "6 airai\n",
      "7 nelson bay\n",
      "8 houston\n",
      "9 rikitea\n",
      "10 port elizabeth\n",
      "11 salinas\n",
      "12 provideniya\n",
      "13 hermanus\n",
      "14 ushuaia\n",
      "15 east london\n",
      "16 novaya maka\n",
      "17 arzamas\n",
      "18 bluff\n",
      "19 cherskiy\n",
      "20 hasaki\n"
     ]
    }
   ],
   "source": [
    "weather_data = []\n",
    "coordinates = []\n",
    "\n",
    "lats = np.random.uniform(low=-90.000, high=90.000, size=20)\n",
    "lngs = np.random.uniform(low=-180.000, high=180.000, size=20)\n",
    "\n",
    "coordinates = tuple(zip(lats,lngs))\n",
    "\n",
    "cities = []\n",
    "city_name = []\n",
    "dup_cities = set()\n",
    "row = 1\n",
    "\n",
    "for coordinate_pair in coordinates:\n",
    "    lat, lon = coordinate_pair\n",
    "    cities.append(citipy.nearest_city(lat, lon))\n",
    "\n",
    "for city in cities:\n",
    "\n",
    "    name = city.city_name\n",
    "    \n",
    "    if name not in dup_cities:\n",
    "        city_name.append(name)\n",
    "        dup_cities.add(name)\n",
    "        print(row, name)\n",
    "        row = row + 1\n",
    "\n"
   ]
  },
  {
   "cell_type": "code",
   "execution_count": 236,
   "metadata": {},
   "outputs": [],
   "source": [
    "# Loop through the list of cities and perform a request for data on each\n",
    "\n",
    "for place in city_name:\n",
    "    response = req.get(query_url + place).json()\n",
    "    weather_data.append(response)\n"
   ]
  },
  {
   "cell_type": "code",
   "execution_count": 237,
   "metadata": {},
   "outputs": [],
   "source": [
    "try:\n",
    "    \n",
    "    lat_data = [data.get(\"coord\").get(\"lat\") for data in weather_data]\n",
    "    lon_data = [data.get(\"coord\").get(\"lon\") for data in weather_data]\n",
    "    temp_data = [data.get(\"main\").get(\"temp\") for data in weather_data]\n",
    "    hum_data = [data.get(\"main\").get(\"humidity\") for data in weather_data]\n",
    "    cloud_data = [data.get(\"clouds\").get(\"all\") for data in weather_data]\n",
    "    wind_data = [data.get(\"wind\").get(\"speed\") for data in weather_data]\n",
    "\n",
    "except AttributeError:\n",
    "    print(\"error\")\n"
   ]
  },
  {
   "cell_type": "code",
   "execution_count": 238,
   "metadata": {},
   "outputs": [
    {
     "data": {
      "text/html": [
       "<div>\n",
       "<style scoped>\n",
       "    .dataframe tbody tr th:only-of-type {\n",
       "        vertical-align: middle;\n",
       "    }\n",
       "\n",
       "    .dataframe tbody tr th {\n",
       "        vertical-align: top;\n",
       "    }\n",
       "\n",
       "    .dataframe thead th {\n",
       "        text-align: right;\n",
       "    }\n",
       "</style>\n",
       "<table border=\"1\" class=\"dataframe\">\n",
       "  <thead>\n",
       "    <tr style=\"text-align: right;\">\n",
       "      <th></th>\n",
       "      <th>City</th>\n",
       "      <th>Cloudiness</th>\n",
       "      <th>Humidity</th>\n",
       "      <th>Latitude</th>\n",
       "      <th>Longitude</th>\n",
       "      <th>Temperature</th>\n",
       "      <th>Wind Speed</th>\n",
       "    </tr>\n",
       "  </thead>\n",
       "  <tbody>\n",
       "    <tr>\n",
       "      <th>0</th>\n",
       "      <td>utica</td>\n",
       "      <td>90</td>\n",
       "      <td>87</td>\n",
       "      <td>43.10</td>\n",
       "      <td>-75.23</td>\n",
       "      <td>42.80</td>\n",
       "      <td>12.75</td>\n",
       "    </tr>\n",
       "    <tr>\n",
       "      <th>1</th>\n",
       "      <td>mataura</td>\n",
       "      <td>0</td>\n",
       "      <td>73</td>\n",
       "      <td>27.50</td>\n",
       "      <td>77.68</td>\n",
       "      <td>71.22</td>\n",
       "      <td>9.08</td>\n",
       "    </tr>\n",
       "    <tr>\n",
       "      <th>2</th>\n",
       "      <td>chala</td>\n",
       "      <td>0</td>\n",
       "      <td>63</td>\n",
       "      <td>-7.58</td>\n",
       "      <td>31.27</td>\n",
       "      <td>64.40</td>\n",
       "      <td>8.05</td>\n",
       "    </tr>\n",
       "    <tr>\n",
       "      <th>3</th>\n",
       "      <td>bambous virieux</td>\n",
       "      <td>75</td>\n",
       "      <td>78</td>\n",
       "      <td>-20.34</td>\n",
       "      <td>57.76</td>\n",
       "      <td>80.60</td>\n",
       "      <td>12.75</td>\n",
       "    </tr>\n",
       "    <tr>\n",
       "      <th>4</th>\n",
       "      <td>norman wells</td>\n",
       "      <td>75</td>\n",
       "      <td>75</td>\n",
       "      <td>65.28</td>\n",
       "      <td>-126.83</td>\n",
       "      <td>-14.81</td>\n",
       "      <td>2.37</td>\n",
       "    </tr>\n",
       "  </tbody>\n",
       "</table>\n",
       "</div>"
      ],
      "text/plain": [
       "              City  Cloudiness  Humidity  Latitude  Longitude  Temperature  \\\n",
       "0            utica          90        87     43.10     -75.23        42.80   \n",
       "1          mataura           0        73     27.50      77.68        71.22   \n",
       "2            chala           0        63     -7.58      31.27        64.40   \n",
       "3  bambous virieux          75        78    -20.34      57.76        80.60   \n",
       "4     norman wells          75        75     65.28    -126.83       -14.81   \n",
       "\n",
       "   Wind Speed  \n",
       "0       12.75  \n",
       "1        9.08  \n",
       "2        8.05  \n",
       "3       12.75  \n",
       "4        2.37  "
      ]
     },
     "execution_count": 238,
     "metadata": {},
     "output_type": "execute_result"
    }
   ],
   "source": [
    "# Create data frame\n",
    "\n",
    "\n",
    "weather_data = {\"City\": city_name, \"Latitude\": lat_data, \"Longitude\":lon_data, \n",
    "                \"Temperature\": temp_data, \"Humidity\":hum_data, \"Cloudiness\":cloud_data,\n",
    "               \"Wind Speed\":wind_data}\n",
    "\n",
    "weather_df = pd.DataFrame(weather_data)\n",
    "\n",
    "# Final DataFrame\n",
    "# weather_df = weather_df[[\"City\", \"Latitude\", \"Longitude\",\"Temperature\",\"Humidity\",\"Cloudiness\",\"Wind Speed\"]]\n",
    "\n",
    "\n",
    "weather_df.head()"
   ]
  },
  {
   "cell_type": "code",
   "execution_count": 239,
   "metadata": {},
   "outputs": [],
   "source": [
    "# save Dataframe as csv\n",
    "weather_df.to_csv(\"20_cities.csv\", encoding=\"utf-8\", index=False)"
   ]
  },
  {
   "cell_type": "code",
   "execution_count": 240,
   "metadata": {},
   "outputs": [
    {
     "data": {
      "image/png": "[encoded data removed]",
      "text/plain": [
       "<matplotlib.figure.Figure at 0x1178b81d0>"
      ]
     },
     "metadata": {},
     "output_type": "display_data"
    }
   ],
   "source": [
    "# Build a scatter plot Temperature vs Latitude\n",
    "plt.scatter(weather_df[\"Latitude\"], weather_data[\"Temperature\"], marker=\"o\")\n",
    "\n",
    "# Incorporate the other graph properties\n",
    "plt.title(\"Temperature in World Cities\")\n",
    "plt.ylabel(\"Temperature (Fahrenheit)\")\n",
    "plt.xlabel(\"Latitude\")\n",
    "plt.grid(True)\n",
    "\n",
    "# Save the figure\n",
    "plt.savefig(\"TemperatureInWorldCities.png\")\n",
    "\n",
    "# Show plot\n",
    "plt.show()"
   ]
  },
  {
   "cell_type": "code",
   "execution_count": 241,
   "metadata": {},
   "outputs": [
    {
     "data": {
      "image/png": "[encoded data removed]",
      "text/plain": [
       "<matplotlib.figure.Figure at 0x1178aa6d8>"
      ]
     },
     "metadata": {},
     "output_type": "display_data"
    }
   ],
   "source": [
    "# Build a scatter plot Humidity vs Latitude\n",
    "plt.scatter(weather_df[\"Latitude\"], weather_data[\"Humidity\"], marker=\"o\")\n",
    "\n",
    "# Incorporate the other graph properties\n",
    "plt.title(\"Humidity in World Cities\")\n",
    "plt.ylabel(\"Humidity (%)\")\n",
    "plt.xlabel(\"Latitude\")\n",
    "plt.grid(True)\n",
    "\n",
    "# Save the figure\n",
    "plt.savefig(\"HumidityInWorldCities.png\")\n",
    "\n",
    "# Show plot\n",
    "plt.show()"
   ]
  },
  {
   "cell_type": "code",
   "execution_count": 242,
   "metadata": {},
   "outputs": [
    {
     "data": {
      "image/png": "[encoded data removed]",
      "text/plain": [
       "<matplotlib.figure.Figure at 0x11780be80>"
      ]
     },
     "metadata": {},
     "output_type": "display_data"
    }
   ],
   "source": [
    "# Build a scatter plot Cloudiness vs Latitude\n",
    "plt.scatter(weather_df[\"Latitude\"], weather_data[\"Cloudiness\"], marker=\"o\")\n",
    "\n",
    "# Incorporate the other graph properties\n",
    "plt.title(\"Cloudiness in World Cities\")\n",
    "plt.ylabel(\"Cloudiness (%)\")\n",
    "plt.xlabel(\"Latitude\")\n",
    "plt.grid(True)\n",
    "\n",
    "# Save the figure\n",
    "plt.savefig(\"CloudinessInWorldCities.png\")\n",
    "\n",
    "# Show plot\n",
    "plt.show()"
   ]
  },
  {
   "cell_type": "code",
   "execution_count": 243,
   "metadata": {},
   "outputs": [
    {
     "data": {
      "image/png": "[encoded data removed]",
      "text/plain": [
       "<matplotlib.figure.Figure at 0x117942a58>"
      ]
     },
     "metadata": {},
     "output_type": "display_data"
    }
   ],
   "source": [
    "# Build a scatter plot Cloudiness vs Latitude\n",
    "plt.scatter(weather_df[\"Latitude\"], weather_data[\"Wind Speed\"], marker=\"o\")\n",
    "\n",
    "# Incorporate the other graph properties\n",
    "plt.title(\"Wind Speed in World Cities\")\n",
    "plt.ylabel(\"Wind Speed (mph)\")\n",
    "plt.xlabel(\"Latitude\")\n",
    "plt.grid(True)\n",
    "\n",
    "# Save the figure\n",
    "plt.savefig(\"WindSpeedInWorldCities.png\")\n",
    "\n",
    "# Show plot\n",
    "plt.show()"
   ]
  },
  {
   "cell_type": "code",
   "execution_count": null,
   "metadata": {},
   "outputs": [],
   "source": []
  }
 ],
 "metadata": {
  "kernelspec": {
   "display_name": "Python 3",
   "language": "python",
   "name": "python3"
  },
  "language_info": {
   "codemirror_mode": {
    "name": "ipython",
    "version": 3
   },
   "file_extension": ".py",
   "mimetype": "text/x-python",
   "name": "python",
   "nbconvert_exporter": "python",
   "pygments_lexer": "ipython3",
   "version": "3.6.3"
  }
 },
 "nbformat": 4,
 "nbformat_minor": 2
}
